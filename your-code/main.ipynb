{
 "cells": [
  {
   "cell_type": "markdown",
   "metadata": {},
   "source": [
    "# Lab | Numpy Deep Dive"
   ]
  },
  {
   "cell_type": "markdown",
   "metadata": {},
   "source": [
    "### 1. Import the NUMPY package under the name np.\n"
   ]
  },
  {
   "cell_type": "code",
   "execution_count": null,
   "metadata": {},
   "outputs": [],
   "source": [
    "import numpy as np\n"
   ]
  },
  {
   "cell_type": "markdown",
   "metadata": {},
   "source": [
    "\n",
    "\n",
    "### 2. Print the NUMPY version and the configuration.\n"
   ]
  },
  {
   "cell_type": "code",
   "execution_count": 10,
   "metadata": {},
   "outputs": [
    {
     "name": "stdout",
     "output_type": "stream",
     "text": [
      "[[0.99695993 0.32615686 0.55915806 0.52014571]\n",
      " [0.39533571 0.15284596 0.98659621 0.00929952]\n",
      " [0.43154348 0.01682433 0.65612046 0.50705293]]\n",
      "NumPy Version: 2.1.3\n",
      "(3, 4)\n",
      "2\n",
      "12\n",
      "float64\n"
     ]
    }
   ],
   "source": [
    "array = np.random.random([3,4])\n",
    "\n",
    "print(array)\n",
    "\n",
    "print(\"NumPy Version:\", np.__version__)\n",
    "print(array.shape)\n",
    "print(array.ndim)\n",
    "print(array.size)\n",
    "print(array.dtype)\n"
   ]
  },
  {
   "cell_type": "markdown",
   "metadata": {},
   "source": [
    "### 3. Generate a 2x3x5 3-dimensional array with random values. Assign the array to variable \"a\"\n",
    "Challenge: there are at least three easy ways that use numpy to generate random arrays. How many ways can you find?\n"
   ]
  },
  {
   "cell_type": "code",
   "execution_count": 11,
   "metadata": {},
   "outputs": [],
   "source": [
    "a = np.random.random([2,3,5])\n"
   ]
  },
  {
   "cell_type": "markdown",
   "metadata": {},
   "source": [
    "\n",
    "### 4. Print a.\n"
   ]
  },
  {
   "cell_type": "code",
   "execution_count": 52,
   "metadata": {},
   "outputs": [
    {
     "name": "stdout",
     "output_type": "stream",
     "text": [
      "[[[0.83007788 0.37034877 0.81099662 0.86822579 0.94200395]\n",
      "  [0.02517501 0.29592376 0.08065985 0.68495919 0.92327292]\n",
      "  [0.26370205 0.88276    0.88621416 0.25237807 0.07764669]]\n",
      "\n",
      " [[0.61866969 0.46000657 0.49349041 0.61525597 0.14333508]\n",
      "  [0.87890508 0.8525677  0.83852918 0.17030796 0.96738743]\n",
      "  [0.10983363 0.49607825 0.31756818 0.73512813 0.30858739]]]\n",
      "30\n",
      "(2, 3, 5)\n",
      "3\n"
     ]
    }
   ],
   "source": [
    "print(a)\n",
    "\n",
    "print(a.size)\n",
    "print(a.shape)\n",
    "print(a.ndim)\n"
   ]
  },
  {
   "cell_type": "markdown",
   "metadata": {},
   "source": [
    "### 5. Create a 5x2x3 3-dimensional array with all values equaling 1.\n",
    "### Assign the array to variable \"b\"\n"
   ]
  },
  {
   "cell_type": "code",
   "execution_count": 16,
   "metadata": {},
   "outputs": [],
   "source": [
    "b = np.ones([5,2,3])\n"
   ]
  },
  {
   "cell_type": "markdown",
   "metadata": {},
   "source": [
    "\n",
    "### 6. Print b.\n"
   ]
  },
  {
   "cell_type": "code",
   "execution_count": 14,
   "metadata": {},
   "outputs": [
    {
     "name": "stdout",
     "output_type": "stream",
     "text": [
      "[[[1. 1. 1.]\n",
      "  [1. 1. 1.]]\n",
      "\n",
      " [[1. 1. 1.]\n",
      "  [1. 1. 1.]]\n",
      "\n",
      " [[1. 1. 1.]\n",
      "  [1. 1. 1.]]\n",
      "\n",
      " [[1. 1. 1.]\n",
      "  [1. 1. 1.]]\n",
      "\n",
      " [[1. 1. 1.]\n",
      "  [1. 1. 1.]]]\n"
     ]
    }
   ],
   "source": [
    "print(b)\n"
   ]
  },
  {
   "cell_type": "markdown",
   "metadata": {},
   "source": [
    "\n",
    "### 7. Do a and b have the same size? How do you prove that in Python code?\n"
   ]
  },
  {
   "cell_type": "code",
   "execution_count": 17,
   "metadata": {},
   "outputs": [
    {
     "name": "stdout",
     "output_type": "stream",
     "text": [
      "Both arrays have the same size\n"
     ]
    }
   ],
   "source": [
    "if a.size == b.size:\n",
    "    print(\"Both arrays have the same size\")\n",
    "else:\n",
    "    print(\"Both arrays do not have the same size\")\n"
   ]
  },
  {
   "cell_type": "markdown",
   "metadata": {},
   "source": [
    "\n",
    "### 8. Are you able to add a and b? Why or why not?\n"
   ]
  },
  {
   "cell_type": "code",
   "execution_count": 19,
   "metadata": {},
   "outputs": [],
   "source": [
    "#NO, because both arrays same size but shapes. It does not accept that broadcast rule.\n"
   ]
  },
  {
   "cell_type": "markdown",
   "metadata": {},
   "source": [
    "\n",
    "\n",
    "### 9. Transpose b so that it has the same structure of a (i.e. become a 2x3x5 array). Assign the transposed array to varialbe \"c\".\n"
   ]
  },
  {
   "cell_type": "code",
   "execution_count": null,
   "metadata": {},
   "outputs": [
    {
     "name": "stdout",
     "output_type": "stream",
     "text": [
      "[[[1. 1. 1. 1. 1.]\n",
      "  [1. 1. 1. 1. 1.]]\n",
      "\n",
      " [[1. 1. 1. 1. 1.]\n",
      "  [1. 1. 1. 1. 1.]]\n",
      "\n",
      " [[1. 1. 1. 1. 1.]\n",
      "  [1. 1. 1. 1. 1.]]]\n"
     ]
    }
   ],
   "source": [
    "c = b.T  #first method - short version\n",
    "\n",
    "print(c)"
   ]
  },
  {
   "cell_type": "code",
   "execution_count": 40,
   "metadata": {},
   "outputs": [
    {
     "name": "stdout",
     "output_type": "stream",
     "text": [
      "[[[1. 1. 1. 1. 1.]\n",
      "  [1. 1. 1. 1. 1.]\n",
      "  [1. 1. 1. 1. 1.]]\n",
      "\n",
      " [[1. 1. 1. 1. 1.]\n",
      "  [1. 1. 1. 1. 1.]\n",
      "  [1. 1. 1. 1. 1.]]]\n"
     ]
    }
   ],
   "source": [
    "c = b.transpose(1,2,0)  #second method\n",
    "\n",
    "print(c)\n"
   ]
  },
  {
   "cell_type": "markdown",
   "metadata": {},
   "source": [
    "\n",
    "### 10. Try to add a and c. Now it should work. Assign the sum to variable \"d\". But why does it work now?\n"
   ]
  },
  {
   "cell_type": "code",
   "execution_count": 43,
   "metadata": {},
   "outputs": [
    {
     "name": "stdout",
     "output_type": "stream",
     "text": [
      "[[[1.83007788 1.37034877 1.81099662 1.86822579 1.94200395]\n",
      "  [1.02517501 1.29592376 1.08065985 1.68495919 1.92327292]\n",
      "  [1.26370205 1.88276    1.88621416 1.25237807 1.07764669]]\n",
      "\n",
      " [[1.61866969 1.46000657 1.49349041 1.61525597 1.14333508]\n",
      "  [1.87890508 1.8525677  1.83852918 1.17030796 1.96738743]\n",
      "  [1.10983363 1.49607825 1.31756818 1.73512813 1.30858739]]]\n",
      "(2, 3, 5)\n",
      "30\n",
      "3\n"
     ]
    }
   ],
   "source": [
    "d = a + c\n",
    "\n",
    "print(d)\n",
    "\n",
    "print(d.shape)\n",
    "print(d.size)\n",
    "print(d.ndim)\n"
   ]
  },
  {
   "cell_type": "markdown",
   "metadata": {},
   "source": [
    "\n",
    "### 11. Print a and d. Notice the difference and relation of the two array in terms of the values? Explain.\n"
   ]
  },
  {
   "cell_type": "code",
   "execution_count": null,
   "metadata": {},
   "outputs": [
    {
     "name": "stdout",
     "output_type": "stream",
     "text": [
      "[[[0.83007788 0.37034877 0.81099662 0.86822579 0.94200395]\n",
      "  [0.02517501 0.29592376 0.08065985 0.68495919 0.92327292]\n",
      "  [0.26370205 0.88276    0.88621416 0.25237807 0.07764669]]\n",
      "\n",
      " [[0.61866969 0.46000657 0.49349041 0.61525597 0.14333508]\n",
      "  [0.87890508 0.8525677  0.83852918 0.17030796 0.96738743]\n",
      "  [0.10983363 0.49607825 0.31756818 0.73512813 0.30858739]]]\n",
      "[[[1.83007788 1.37034877 1.81099662 1.86822579 1.94200395]\n",
      "  [1.02517501 1.29592376 1.08065985 1.68495919 1.92327292]\n",
      "  [1.26370205 1.88276    1.88621416 1.25237807 1.07764669]]\n",
      "\n",
      " [[1.61866969 1.46000657 1.49349041 1.61525597 1.14333508]\n",
      "  [1.87890508 1.8525677  1.83852918 1.17030796 1.96738743]\n",
      "  [1.10983363 1.49607825 1.31756818 1.73512813 1.30858739]]]\n"
     ]
    }
   ],
   "source": [
    "\n",
    "print(a)\n",
    "\n",
    "print(d)\n",
    "\n",
    "\n",
    "#The values in the array d are higher than the values of array a by 1 but are in the same order.\n",
    "\n",
    "# print((a+d).size)\n",
    "# print((a+d).shape)\n",
    "# print((a+d).ndim)\n"
   ]
  },
  {
   "cell_type": "markdown",
   "metadata": {},
   "source": [
    "\n",
    "### 12. Multiply a and c. Assign the result to e.\n"
   ]
  },
  {
   "cell_type": "code",
   "execution_count": 51,
   "metadata": {},
   "outputs": [
    {
     "name": "stdout",
     "output_type": "stream",
     "text": [
      "[[[0.83007788 0.37034877 0.81099662 0.86822579 0.94200395]\n",
      "  [0.02517501 0.29592376 0.08065985 0.68495919 0.92327292]\n",
      "  [0.26370205 0.88276    0.88621416 0.25237807 0.07764669]]\n",
      "\n",
      " [[0.61866969 0.46000657 0.49349041 0.61525597 0.14333508]\n",
      "  [0.87890508 0.8525677  0.83852918 0.17030796 0.96738743]\n",
      "  [0.10983363 0.49607825 0.31756818 0.73512813 0.30858739]]]\n",
      "30\n",
      "(2, 3, 5)\n",
      "3\n"
     ]
    }
   ],
   "source": [
    "e = a * c\n",
    "\n",
    "print(e)\n",
    "\n",
    "print(e.size)\n",
    "print(e.shape)\n",
    "print(e.ndim)\n"
   ]
  },
  {
   "cell_type": "markdown",
   "metadata": {},
   "source": [
    "\n",
    "\n",
    "### 13. Does e equal to a? Why or why not?\n"
   ]
  },
  {
   "cell_type": "code",
   "execution_count": null,
   "metadata": {},
   "outputs": [],
   "source": [
    "# YES, a ie equal to a, as both their size, shapes and dimensions match.\n",
    "\n"
   ]
  },
  {
   "cell_type": "markdown",
   "metadata": {},
   "source": [
    "\n",
    "\n",
    "### 14. Identify the max, min, and mean values in d. Assign those values to variables \"d_max\", \"d_min\", and \"d_mean\"\n"
   ]
  },
  {
   "cell_type": "code",
   "execution_count": 59,
   "metadata": {},
   "outputs": [
    {
     "name": "stdout",
     "output_type": "stream",
     "text": [
      "max value is d is : 1.9673874328088092\n",
      "min value of d is : 1.5399998455478525\n",
      "mean value of d is : 1.025175005735183\n"
     ]
    }
   ],
   "source": [
    "d_max = np.max(d)\n",
    "\n",
    "d_min = np.min(d)\n",
    "\n",
    "d_mean = np.mean(d)\n",
    "\n",
    "\n",
    "print(\"max value is d is :\", d_max)\n",
    "\n",
    "print(\"min value of d is :\", d_mean)\n",
    "\n",
    "print(\"mean value of d is :\", d_min)\n",
    "\n"
   ]
  },
  {
   "cell_type": "markdown",
   "metadata": {},
   "source": [
    "\n",
    "### 15. Now we want to label the values in d. First create an empty array \"f\" with the same shape (i.e. 2x3x5) as d using `np.empty`.\n"
   ]
  },
  {
   "cell_type": "code",
   "execution_count": 69,
   "metadata": {},
   "outputs": [
    {
     "name": "stdout",
     "output_type": "stream",
     "text": [
      "[[[1.83007788 1.37034877 1.81099662 1.86822579 1.94200395]\n",
      "  [1.02517501 1.29592376 1.08065985 1.68495919 1.92327292]\n",
      "  [1.26370205 1.88276    1.88621416 1.25237807 1.07764669]]\n",
      "\n",
      " [[1.61866969 1.46000657 1.49349041 1.61525597 1.14333508]\n",
      "  [1.87890508 1.8525677  1.83852918 1.17030796 1.96738743]\n",
      "  [1.10983363 1.49607825 1.31756818 1.73512813 1.30858739]]]\n"
     ]
    }
   ],
   "source": [
    "f = np.empty([2,3,5])\n",
    "\n",
    "# or f = np.empty_like(d) - entering the array name directly instead of shaoe of the array.\n",
    "\n",
    "print(f)\n"
   ]
  },
  {
   "cell_type": "markdown",
   "metadata": {},
   "source": [
    "\n",
    "\n",
    "\n",
    "### 16. Populate the values in f. For each value in d, if it's larger than d_min but smaller than d_mean, assign 25 to the corresponding value in f.\n",
    "If a value in d is larger than d_mean but smaller than d_max, assign 75 to the corresponding value in f.\n",
    "If a value equals to d_mean, assign 50 to the corresponding value in f.\n",
    "Assign 0 to the corresponding value(s) in f for d_min in d.\n",
    "Assign 100 to the corresponding value(s) in f for d_max in d.\n",
    "In the end, f should have only the following values: 0, 25, 50, 75, and 100.\n",
    "Note: you don't have to use Numpy in this question.\n",
    "\n"
   ]
  },
  {
   "cell_type": "code",
   "execution_count": 79,
   "metadata": {},
   "outputs": [
    {
     "name": "stdout",
     "output_type": "stream",
     "text": [
      "[[[1.83007788 1.37034877 1.81099662 1.86822579 1.94200395]\n",
      "  [1.02517501 1.29592376 1.08065985 1.68495919 1.92327292]\n",
      "  [1.26370205 1.88276    1.88621416 1.25237807 1.07764669]]\n",
      "\n",
      " [[1.61866969 1.46000657 1.49349041 1.61525597 1.14333508]\n",
      "  [1.87890508 1.8525677  1.83852918 1.17030796 1.96738743]\n",
      "  [1.10983363 1.49607825 1.31756818 1.73512813 1.30858739]]]\n",
      "[[[ 75.  25.  75.  75.  75.]\n",
      "  [  0.  25.  25.  75.  75.]\n",
      "  [ 25.  75.  75.  25.  25.]]\n",
      "\n",
      " [[ 75.  25.  25.  75.  25.]\n",
      "  [ 75.  75.  75.  25. 100.]\n",
      "  [ 25.  25.  25.  75.  25.]]]\n"
     ]
    }
   ],
   "source": [
    "# max value is d is : 1.9673874328088092\n",
    "# min value of d is : 1.5399998455478525\n",
    "# mean value of d is : 1.025175005735183\n",
    "\n",
    "print(d)\n",
    "\n",
    "# f = np.where(((d>d_min) & (d <d_mean)),25,f)\n",
    "#np.where((d>d_min and d <d_mean),25)\n",
    "#print(f)\n",
    "#d_min = np.min(d)  # Ensure scalar value\n",
    "#d_max = np.max(d)  # Ensure scalar value\n",
    "#d_mean = np.mean(d)  # Ensure scalar value\n",
    "\n",
    "for i in range(2):\n",
    "    for j in range(3):\n",
    "        for k in range(5):\n",
    "            d_value = d[i,j,k]\n",
    "            if d_min < d_value < d_mean:\n",
    "                f[i, j, k] = 25\n",
    "            elif d_value == d_mean:\n",
    "                f[i, j, k] = 50\n",
    "            elif d_mean < d_value < d_max:\n",
    "                f[i, j, k] = 75\n",
    "            elif d_value == d_min:\n",
    "                f[i, j, k] = 0\n",
    "            elif d_value == d_max:\n",
    "                f[i, j, k] = 100\n",
    "print(f)\n",
    "\n"
   ]
  },
  {
   "cell_type": "markdown",
   "metadata": {},
   "source": [
    "\n",
    "\n",
    "\n",
    "\n",
    "### 17. Print d and f. Do you have your expected f?\n",
    "For instance, if your d is:\n",
    "array([[[1.85836099, 1.67064465, 1.62576044, 1.40243961, 1.88454931],\n",
    "        [1.75354326, 1.69403643, 1.36729252, 1.61415071, 1.12104981],\n",
    "        [1.72201435, 1.1862918 , 1.87078449, 1.7726778 , 1.88180042]],\n",
    "\n",
    "       [[1.44747908, 1.31673383, 1.02000951, 1.52218947, 1.97066381],\n",
    "        [1.79129243, 1.74983003, 1.96028037, 1.85166831, 1.65450881],\n",
    "        [1.18068344, 1.9587381 , 1.00656599, 1.93402165, 1.73514584]]])\n",
    "\n",
    "Your f should be:\n",
    "array([[[ 75.,  75.,  75.,  25.,  75.],\n",
    "        [ 75.,  75.,  25.,  25.,  25.],\n",
    "        [ 75.,  25.,  75.,  75.,  75.]],\n",
    "\n",
    "       [[ 25.,  25.,  25.,  25., 100.],\n",
    "        [ 75.,  75.,  75.,  75.,  75.],\n",
    "        [ 25.,  75.,   0.,  75.,  75.]]])\n",
    "\n"
   ]
  },
  {
   "cell_type": "code",
   "execution_count": null,
   "metadata": {},
   "outputs": [],
   "source": [
    "# Yes, the f array is polpulated according to the conditions mentioned.\n"
   ]
  },
  {
   "cell_type": "markdown",
   "metadata": {},
   "source": [
    "### 18. Bonus question: instead of using numbers (i.e. 0, 25, 50, 75, and 100), how to use string values \n",
    "(\"A\", \"B\", \"C\", \"D\", and \"E\") to label the array elements? You are expecting the result to be:\n",
    "array([[[ 'D',  'D',  'D',  'B',  'D'],\n",
    "        [ 'D',  'D',  'B',  'B',  'B'],\n",
    "        [ 'D',  'B',  'D',  'D',  'D']],\n",
    "\n",
    "       [[ 'B',  'B',  'B',  'B',  'E'],\n",
    "        [ 'D',  'D',  'D',  'D',  'D'],\n",
    "        [ 'B',  'D',   'A',  'D', 'D']]])\n",
    "Again, you don't need Numpy in this question."
   ]
  },
  {
   "cell_type": "code",
   "execution_count": 92,
   "metadata": {},
   "outputs": [
    {
     "name": "stdout",
     "output_type": "stream",
     "text": [
      "[[['D' 'B' 'D' 'D' 'D']\n",
      "  ['A' 'B' 'B' 'D' 'D']\n",
      "  ['B' 'D' 'D' 'B' 'B']]\n",
      "\n",
      " [['D' 'B' 'B' 'D' 'B']\n",
      "  ['D' 'D' 'D' 'B' 'E']\n",
      "  ['B' 'B' 'B' 'D' 'B']]]\n"
     ]
    }
   ],
   "source": [
    "\n",
    "\n",
    "f_strings = np.empty_like(d, dtype='<U1')  \n",
    "\n",
    "for i in range(2):\n",
    "    for j in range(3):\n",
    "        for k in range(5):\n",
    "            d_value = d[i, j, k]\n",
    "            if d_min < d_value < d_mean:\n",
    "                f[i, j, k] = 'B'\n",
    "            elif d_value == d_mean:\n",
    "                f[i, j, k] = 'C'\n",
    "            elif d_mean < d_value < d_max:\n",
    "                f[i, j, k] = 'D'\n",
    "            elif d_value == d_min:\n",
    "                f[i, j, k] = 'A'\n",
    "            elif d_value == d_max:\n",
    "                f[i, j, k] = 'E'\n",
    "\n",
    "print(f)\n"
   ]
  }
 ],
 "metadata": {
  "kernelspec": {
   "display_name": "base",
   "language": "python",
   "name": "python3"
  },
  "language_info": {
   "codemirror_mode": {
    "name": "ipython",
    "version": 3
   },
   "file_extension": ".py",
   "mimetype": "text/x-python",
   "name": "python",
   "nbconvert_exporter": "python",
   "pygments_lexer": "ipython3",
   "version": "3.13.5"
  }
 },
 "nbformat": 4,
 "nbformat_minor": 2
}
